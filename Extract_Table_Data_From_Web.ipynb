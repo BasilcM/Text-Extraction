{
  "nbformat": 4,
  "nbformat_minor": 0,
  "metadata": {
    "colab": {
      "name": "Extract Table Data From Web",
      "provenance": []
    },
    "kernelspec": {
      "name": "python3",
      "display_name": "Python 3"
    }
  },
  "cells": [
    {
      "cell_type": "code",
      "metadata": {
        "id": "2gbfj6lT9Kc3",
        "colab_type": "code",
        "outputId": "8b0ad33b-1c55-43ef-8d14-682055c08778",
        "colab": {
          "base_uri": "https://localhost:8080/",
          "height": 445
        }
      },
      "source": [
        "# Import libraries \n",
        "from PIL import Image \n",
        "import pytesseract \n",
        "import sys \n",
        "from pdf2image import convert_from_path \n",
        "import os \n",
        "\n",
        "# Path of the pdf \n",
        "PDF_file = \"/content/rafeeq.pdf\"\n",
        "\n",
        "''' \n",
        "Part #1 : Converting PDF to images \n",
        "'''\n",
        "\n",
        "# Store all the pages of the PDF in a variable \n",
        "pages = convert_from_path(PDF_file, 500) \n",
        "\n",
        "# Counter to store images of each page of PDF to image \n",
        "image_counter = 1\n",
        "\n",
        "# Iterate through all the pages stored above \n",
        "for page in pages: \n",
        "\n",
        "\t# Declaring filename for each page of PDF as JPG \n",
        "\t# For each page, filename will be: \n",
        "\t# PDF page 1 -> page_1.jpg \n",
        "\t# PDF page 2 -> page_2.jpg \n",
        "\t# PDF page 3 -> page_3.jpg \n",
        "\t# .... \n",
        "\t# PDF page n -> page_n.jpg \n",
        "\tfilename = \"page_\"+str(image_counter)+\".jpg\"\n",
        "\t\n",
        "\t# Save the image of the page in system \n",
        "\tpage.save(filename, 'JPEG') \n",
        "\n",
        "\t# Increment the counter to update filename \n",
        "\timage_counter = image_counter + 1\n",
        "\n",
        "''' \n",
        "Part #2 - Recognizing text from the images using OCR \n",
        "'''\n",
        "#\t3\n",
        "# Variable to get count of total number of pages \n",
        "filelimit = image_counter-1\n",
        "\n",
        "# Creating a text file to write the output \n",
        "outfile = \"out_text.txt\"\n",
        "\n",
        "# Open the file in append mode so that \n",
        "# All contents of all images are added to the same file \n",
        "f = open(outfile, \"a\") \n",
        "\n",
        "# Iterate from 1 to total number of pages \n",
        "for i in range(1, filelimit + 1): \n",
        "\n",
        "\t# Set filename to recognize text from \n",
        "\t# Again, these files will be: \n",
        "\t# page_1.jpg \n",
        "\t# page_2.jpg \n",
        "\t# .... \n",
        "\t# page_n.jpg \n",
        "\tfilename = \"page_\"+str(i)+\".jpg\"\n",
        "\t\t\n",
        "\t# Recognize the text as string in image using pytesserct \n",
        "\ttext = str(((pytesseract.image_to_string(Image.open(filename))))) \n",
        "\n",
        "\t# The recognized text is stored in variable text \n",
        "\t# Any string processing may be applied on text \n",
        "\t# Here, basic formatting has been done: \n",
        "\t# In many PDFs, at line ending, if a word can't \n",
        "\t# be written fully, a 'hyphen' is added. \n",
        "\t# The rest of the word is written in the next line \n",
        "\t# Eg: This is a sample text this word here GeeksF- \n",
        "\t# orGeeks is half on first line, remaining on next. \n",
        "\t# To remove this, we replace every '-\\n' to ''. \n",
        "\ttext = text.replace('-\\n', '')\t \n",
        "\n",
        "\t# Finally, write the processed text to the file. \n",
        "\tf.write(text) \n",
        "\n",
        "# Close the file after writing all the text. \n",
        "f.close() \n"
      ],
      "execution_count": 0,
      "outputs": [
        {
          "output_type": "error",
          "ename": "PDFInfoNotInstalledError",
          "evalue": "ignored",
          "traceback": [
            "\u001b[0;31m---------------------------------------------------------------------------\u001b[0m",
            "\u001b[0;31mFileNotFoundError\u001b[0m                         Traceback (most recent call last)",
            "\u001b[0;32m/usr/local/lib/python3.6/dist-packages/pdf2image/pdf2image.py\u001b[0m in \u001b[0;36mpdfinfo_from_path\u001b[0;34m(pdf_path, userpw, poppler_path)\u001b[0m\n\u001b[1;32m    419\u001b[0m             \u001b[0menv\u001b[0m\u001b[0;34m[\u001b[0m\u001b[0;34m\"LD_LIBRARY_PATH\"\u001b[0m\u001b[0;34m]\u001b[0m \u001b[0;34m=\u001b[0m \u001b[0mpoppler_path\u001b[0m \u001b[0;34m+\u001b[0m \u001b[0;34m\":\"\u001b[0m \u001b[0;34m+\u001b[0m \u001b[0menv\u001b[0m\u001b[0;34m.\u001b[0m\u001b[0mget\u001b[0m\u001b[0;34m(\u001b[0m\u001b[0;34m\"LD_LIBRARY_PATH\"\u001b[0m\u001b[0;34m,\u001b[0m \u001b[0;34m\"\"\u001b[0m\u001b[0;34m)\u001b[0m\u001b[0;34m\u001b[0m\u001b[0;34m\u001b[0m\u001b[0m\n\u001b[0;32m--> 420\u001b[0;31m         \u001b[0mproc\u001b[0m \u001b[0;34m=\u001b[0m \u001b[0mPopen\u001b[0m\u001b[0;34m(\u001b[0m\u001b[0mcommand\u001b[0m\u001b[0;34m,\u001b[0m \u001b[0menv\u001b[0m\u001b[0;34m=\u001b[0m\u001b[0menv\u001b[0m\u001b[0;34m,\u001b[0m \u001b[0mstdout\u001b[0m\u001b[0;34m=\u001b[0m\u001b[0mPIPE\u001b[0m\u001b[0;34m,\u001b[0m \u001b[0mstderr\u001b[0m\u001b[0;34m=\u001b[0m\u001b[0mPIPE\u001b[0m\u001b[0;34m)\u001b[0m\u001b[0;34m\u001b[0m\u001b[0;34m\u001b[0m\u001b[0m\n\u001b[0m\u001b[1;32m    421\u001b[0m \u001b[0;34m\u001b[0m\u001b[0m\n",
            "\u001b[0;32m/usr/lib/python3.6/subprocess.py\u001b[0m in \u001b[0;36m__init__\u001b[0;34m(self, args, bufsize, executable, stdin, stdout, stderr, preexec_fn, close_fds, shell, cwd, env, universal_newlines, startupinfo, creationflags, restore_signals, start_new_session, pass_fds, encoding, errors)\u001b[0m\n\u001b[1;32m    728\u001b[0m                                 \u001b[0merrread\u001b[0m\u001b[0;34m,\u001b[0m \u001b[0merrwrite\u001b[0m\u001b[0;34m,\u001b[0m\u001b[0;34m\u001b[0m\u001b[0;34m\u001b[0m\u001b[0m\n\u001b[0;32m--> 729\u001b[0;31m                                 restore_signals, start_new_session)\n\u001b[0m\u001b[1;32m    730\u001b[0m         \u001b[0;32mexcept\u001b[0m\u001b[0;34m:\u001b[0m\u001b[0;34m\u001b[0m\u001b[0;34m\u001b[0m\u001b[0m\n",
            "\u001b[0;32m/usr/lib/python3.6/subprocess.py\u001b[0m in \u001b[0;36m_execute_child\u001b[0;34m(self, args, executable, preexec_fn, close_fds, pass_fds, cwd, env, startupinfo, creationflags, shell, p2cread, p2cwrite, c2pread, c2pwrite, errread, errwrite, restore_signals, start_new_session)\u001b[0m\n\u001b[1;32m   1363\u001b[0m                             \u001b[0merr_msg\u001b[0m \u001b[0;34m+=\u001b[0m \u001b[0;34m': '\u001b[0m \u001b[0;34m+\u001b[0m \u001b[0mrepr\u001b[0m\u001b[0;34m(\u001b[0m\u001b[0merr_filename\u001b[0m\u001b[0;34m)\u001b[0m\u001b[0;34m\u001b[0m\u001b[0;34m\u001b[0m\u001b[0m\n\u001b[0;32m-> 1364\u001b[0;31m                     \u001b[0;32mraise\u001b[0m \u001b[0mchild_exception_type\u001b[0m\u001b[0;34m(\u001b[0m\u001b[0merrno_num\u001b[0m\u001b[0;34m,\u001b[0m \u001b[0merr_msg\u001b[0m\u001b[0;34m,\u001b[0m \u001b[0merr_filename\u001b[0m\u001b[0;34m)\u001b[0m\u001b[0;34m\u001b[0m\u001b[0;34m\u001b[0m\u001b[0m\n\u001b[0m\u001b[1;32m   1365\u001b[0m                 \u001b[0;32mraise\u001b[0m \u001b[0mchild_exception_type\u001b[0m\u001b[0;34m(\u001b[0m\u001b[0merr_msg\u001b[0m\u001b[0;34m)\u001b[0m\u001b[0;34m\u001b[0m\u001b[0;34m\u001b[0m\u001b[0m\n",
            "\u001b[0;31mFileNotFoundError\u001b[0m: [Errno 2] No such file or directory: 'pdfinfo': 'pdfinfo'",
            "\nDuring handling of the above exception, another exception occurred:\n",
            "\u001b[0;31mPDFInfoNotInstalledError\u001b[0m                  Traceback (most recent call last)",
            "\u001b[0;32m<ipython-input-11-7d2b4bdac05c>\u001b[0m in \u001b[0;36m<module>\u001b[0;34m()\u001b[0m\n\u001b[1;32m     14\u001b[0m \u001b[0;34m\u001b[0m\u001b[0m\n\u001b[1;32m     15\u001b[0m \u001b[0;31m# Store all the pages of the PDF in a variable\u001b[0m\u001b[0;34m\u001b[0m\u001b[0;34m\u001b[0m\u001b[0;34m\u001b[0m\u001b[0m\n\u001b[0;32m---> 16\u001b[0;31m \u001b[0mpages\u001b[0m \u001b[0;34m=\u001b[0m \u001b[0mconvert_from_path\u001b[0m\u001b[0;34m(\u001b[0m\u001b[0mPDF_file\u001b[0m\u001b[0;34m,\u001b[0m \u001b[0;36m500\u001b[0m\u001b[0;34m)\u001b[0m\u001b[0;34m\u001b[0m\u001b[0;34m\u001b[0m\u001b[0m\n\u001b[0m\u001b[1;32m     17\u001b[0m \u001b[0;34m\u001b[0m\u001b[0m\n\u001b[1;32m     18\u001b[0m \u001b[0;31m# Counter to store images of each page of PDF to image\u001b[0m\u001b[0;34m\u001b[0m\u001b[0;34m\u001b[0m\u001b[0;34m\u001b[0m\u001b[0m\n",
            "\u001b[0;32m/usr/local/lib/python3.6/dist-packages/pdf2image/pdf2image.py\u001b[0m in \u001b[0;36mconvert_from_path\u001b[0;34m(pdf_path, dpi, output_folder, first_page, last_page, fmt, jpegopt, thread_count, userpw, use_cropbox, strict, transparent, single_file, output_file, poppler_path, grayscale, size, paths_only, use_pdftocairo)\u001b[0m\n\u001b[1;32m     92\u001b[0m         \u001b[0mpoppler_path\u001b[0m \u001b[0;34m=\u001b[0m \u001b[0mpoppler_path\u001b[0m\u001b[0;34m.\u001b[0m\u001b[0mas_posix\u001b[0m\u001b[0;34m(\u001b[0m\u001b[0;34m)\u001b[0m\u001b[0;34m\u001b[0m\u001b[0;34m\u001b[0m\u001b[0m\n\u001b[1;32m     93\u001b[0m \u001b[0;34m\u001b[0m\u001b[0m\n\u001b[0;32m---> 94\u001b[0;31m     \u001b[0mpage_count\u001b[0m \u001b[0;34m=\u001b[0m \u001b[0mpdfinfo_from_path\u001b[0m\u001b[0;34m(\u001b[0m\u001b[0mpdf_path\u001b[0m\u001b[0;34m,\u001b[0m \u001b[0muserpw\u001b[0m\u001b[0;34m,\u001b[0m \u001b[0mpoppler_path\u001b[0m\u001b[0;34m=\u001b[0m\u001b[0mpoppler_path\u001b[0m\u001b[0;34m)\u001b[0m\u001b[0;34m[\u001b[0m\u001b[0;34m\"Pages\"\u001b[0m\u001b[0;34m]\u001b[0m\u001b[0;34m\u001b[0m\u001b[0;34m\u001b[0m\u001b[0m\n\u001b[0m\u001b[1;32m     95\u001b[0m \u001b[0;34m\u001b[0m\u001b[0m\n\u001b[1;32m     96\u001b[0m     \u001b[0;31m# We start by getting the output format, the buffer processing function and if we need pdftocairo\u001b[0m\u001b[0;34m\u001b[0m\u001b[0;34m\u001b[0m\u001b[0;34m\u001b[0m\u001b[0m\n",
            "\u001b[0;32m/usr/local/lib/python3.6/dist-packages/pdf2image/pdf2image.py\u001b[0m in \u001b[0;36mpdfinfo_from_path\u001b[0;34m(pdf_path, userpw, poppler_path)\u001b[0m\n\u001b[1;32m    440\u001b[0m     \u001b[0;32mexcept\u001b[0m \u001b[0mOSError\u001b[0m\u001b[0;34m:\u001b[0m\u001b[0;34m\u001b[0m\u001b[0;34m\u001b[0m\u001b[0m\n\u001b[1;32m    441\u001b[0m         raise PDFInfoNotInstalledError(\n\u001b[0;32m--> 442\u001b[0;31m             \u001b[0;34m\"Unable to get page count. Is poppler installed and in PATH?\"\u001b[0m\u001b[0;34m\u001b[0m\u001b[0;34m\u001b[0m\u001b[0m\n\u001b[0m\u001b[1;32m    443\u001b[0m         )\n\u001b[1;32m    444\u001b[0m     \u001b[0;32mexcept\u001b[0m \u001b[0mValueError\u001b[0m\u001b[0;34m:\u001b[0m\u001b[0;34m\u001b[0m\u001b[0;34m\u001b[0m\u001b[0m\n",
            "\u001b[0;31mPDFInfoNotInstalledError\u001b[0m: Unable to get page count. Is poppler installed and in PATH?"
          ]
        }
      ]
    },
    {
      "cell_type": "code",
      "metadata": {
        "id": "pAanH9af9YUf",
        "colab_type": "code",
        "outputId": "72e87d4c-7846-4d7d-95a5-a0506dd756be",
        "colab": {
          "base_uri": "https://localhost:8080/",
          "height": 122
        }
      },
      "source": [
        "!pip3 install pdf2image"
      ],
      "execution_count": 0,
      "outputs": [
        {
          "output_type": "stream",
          "text": [
            "Collecting pdf2image\n",
            "  Downloading https://files.pythonhosted.org/packages/c6/62/bf2df0547cf4e216b329a9d39a7aa6c755f02071e63e17a4b76690ebfe20/pdf2image-1.13.1-py3-none-any.whl\n",
            "Requirement already satisfied: pillow in /usr/local/lib/python3.6/dist-packages (from pdf2image) (7.0.0)\n",
            "Installing collected packages: pdf2image\n",
            "Successfully installed pdf2image-1.13.1\n"
          ],
          "name": "stdout"
        }
      ]
    },
    {
      "cell_type": "code",
      "metadata": {
        "id": "5C0Ms-cr9lxn",
        "colab_type": "code",
        "outputId": "c5c3ba6b-9d34-4d45-fa98-fcfdc979455e",
        "colab": {
          "base_uri": "https://localhost:8080/",
          "height": 207
        }
      },
      "source": [
        "!pip3 install tesseract"
      ],
      "execution_count": 0,
      "outputs": [
        {
          "output_type": "stream",
          "text": [
            "Collecting tesseract\n",
            "\u001b[?25l  Downloading https://files.pythonhosted.org/packages/8d/b7/c4fae9af5842f69d9c45bf1195a94aec090628535c102894552a7a7dbe6c/tesseract-0.1.3.tar.gz (45.6MB)\n",
            "\u001b[K     |████████████████████████████████| 45.6MB 88kB/s \n",
            "\u001b[?25hBuilding wheels for collected packages: tesseract\n",
            "  Building wheel for tesseract (setup.py) ... \u001b[?25l\u001b[?25hdone\n",
            "  Created wheel for tesseract: filename=tesseract-0.1.3-cp36-none-any.whl size=45562571 sha256=48fc2bba943a6b7fe5b9937d49fa2787f94ca2f0f73c58f4e8642c3d33e73110\n",
            "  Stored in directory: /root/.cache/pip/wheels/82/1f/d9/24797b123379e4ea9511cf660835468b62dad609634cad2aba\n",
            "Successfully built tesseract\n",
            "Installing collected packages: tesseract\n",
            "Successfully installed tesseract-0.1.3\n"
          ],
          "name": "stdout"
        }
      ]
    },
    {
      "cell_type": "code",
      "metadata": {
        "id": "Mh1QGCHF-ltP",
        "colab_type": "code",
        "outputId": "9edae083-f4f1-4195-e0c2-1878f131f821",
        "colab": {
          "base_uri": "https://localhost:8080/",
          "height": 734
        }
      },
      "source": [
        "!pip3 install PIL\n",
        "!pip3 install pytesseract\n",
        "!pip3 install pdf2image\n",
        "!sudo apt-get install tesseract-ocr"
      ],
      "execution_count": 0,
      "outputs": [
        {
          "output_type": "stream",
          "text": [
            "\u001b[31mERROR: Could not find a version that satisfies the requirement PIL (from versions: none)\u001b[0m\n",
            "\u001b[31mERROR: No matching distribution found for PIL\u001b[0m\n",
            "Requirement already satisfied: pytesseract in /usr/local/lib/python3.6/dist-packages (0.3.4)\n",
            "Requirement already satisfied: Pillow in /usr/local/lib/python3.6/dist-packages (from pytesseract) (7.0.0)\n",
            "Requirement already satisfied: pdf2image in /usr/local/lib/python3.6/dist-packages (1.13.1)\n",
            "Requirement already satisfied: pillow in /usr/local/lib/python3.6/dist-packages (from pdf2image) (7.0.0)\n",
            "Reading package lists... Done\n",
            "Building dependency tree       \n",
            "Reading state information... Done\n",
            "The following additional packages will be installed:\n",
            "  tesseract-ocr-eng tesseract-ocr-osd\n",
            "The following NEW packages will be installed:\n",
            "  tesseract-ocr tesseract-ocr-eng tesseract-ocr-osd\n",
            "0 upgraded, 3 newly installed, 0 to remove and 32 not upgraded.\n",
            "Need to get 4,795 kB of archives.\n",
            "After this operation, 15.8 MB of additional disk space will be used.\n",
            "Get:1 http://archive.ubuntu.com/ubuntu bionic/universe amd64 tesseract-ocr-eng all 4.00~git24-0e00fe6-1.2 [1,588 kB]\n",
            "Get:2 http://archive.ubuntu.com/ubuntu bionic/universe amd64 tesseract-ocr-osd all 4.00~git24-0e00fe6-1.2 [2,989 kB]\n",
            "Get:3 http://archive.ubuntu.com/ubuntu bionic/universe amd64 tesseract-ocr amd64 4.00~git2288-10f4998a-2 [218 kB]\n",
            "Fetched 4,795 kB in 1s (4,505 kB/s)\n",
            "debconf: unable to initialize frontend: Dialog\n",
            "debconf: (No usable dialog-like program is installed, so the dialog based frontend cannot be used. at /usr/share/perl5/Debconf/FrontEnd/Dialog.pm line 76, <> line 3.)\n",
            "debconf: falling back to frontend: Readline\n",
            "debconf: unable to initialize frontend: Readline\n",
            "debconf: (This frontend requires a controlling tty.)\n",
            "debconf: falling back to frontend: Teletype\n",
            "dpkg-preconfigure: unable to re-open stdin: \n",
            "Selecting previously unselected package tesseract-ocr-eng.\n",
            "(Reading database ... 144467 files and directories currently installed.)\n",
            "Preparing to unpack .../tesseract-ocr-eng_4.00~git24-0e00fe6-1.2_all.deb ...\n",
            "Unpacking tesseract-ocr-eng (4.00~git24-0e00fe6-1.2) ...\n",
            "Selecting previously unselected package tesseract-ocr-osd.\n",
            "Preparing to unpack .../tesseract-ocr-osd_4.00~git24-0e00fe6-1.2_all.deb ...\n",
            "Unpacking tesseract-ocr-osd (4.00~git24-0e00fe6-1.2) ...\n",
            "Selecting previously unselected package tesseract-ocr.\n",
            "Preparing to unpack .../tesseract-ocr_4.00~git2288-10f4998a-2_amd64.deb ...\n",
            "Unpacking tesseract-ocr (4.00~git2288-10f4998a-2) ...\n",
            "Setting up tesseract-ocr-osd (4.00~git24-0e00fe6-1.2) ...\n",
            "Setting up tesseract-ocr-eng (4.00~git24-0e00fe6-1.2) ...\n",
            "Setting up tesseract-ocr (4.00~git2288-10f4998a-2) ...\n",
            "Processing triggers for man-db (2.8.3-2ubuntu0.1) ...\n"
          ],
          "name": "stdout"
        }
      ]
    },
    {
      "cell_type": "code",
      "metadata": {
        "id": "Uv0b4F-l-zu6",
        "colab_type": "code",
        "colab": {}
      },
      "source": [
        "from PIL import Image "
      ],
      "execution_count": 0,
      "outputs": []
    },
    {
      "cell_type": "code",
      "metadata": {
        "id": "sSYgYBjs_I0G",
        "colab_type": "code",
        "colab": {}
      },
      "source": [
        "from io import StringIO\n",
        "#from cStringIO import StringIO\n",
        "from pdfminer.pdfinterp import PDFResourceManager, PDFPageInterpreter\n",
        "from pdfminer.converter import TextConverter\n",
        "from pdfminer.layout import LAParams\n",
        "from pdfminer.pdfpage import PDFPage\n",
        "import os\n",
        "import sys, getopt\n",
        "\n",
        "#converts pdf, returns its text content as a string\n",
        "def convert(fname, pages=None):\n",
        "    if not pages:\n",
        "        pagenums = set()\n",
        "    else:\n",
        "        pagenums = set(pages)\n",
        "\n",
        "    output = StringIO()\n",
        "    manager = PDFResourceManager()\n",
        "    converter = TextConverter(manager, output, laparams=LAParams())\n",
        "    interpreter = PDFPageInterpreter(manager, converter)\n",
        "\n",
        "    infile = open(fname, 'rb')\n",
        "    for page in PDFPage.get_pages(infile, pagenums):\n",
        "        interpreter.process_page(page)\n",
        "    infile.close()\n",
        "    converter.close()\n",
        "    text = output.getvalue()\n",
        "    output.close\n",
        "    return text \n",
        "   \n",
        "def convertMultiple(pdfDir, txtDir):\n",
        "    if pdfDir == \"\": pdfDir = os.getcwd() + \"\\\\\" #if no pdfDir passed in \n",
        "    for pdf in os.listdir(pdfDir): #iterate through pdfs in pdf directory\n",
        "        fileExtension = pdf.split(\".\")[-1]\n",
        "        if fileExtension == \"pdf\":\n",
        "            pdfFilename = pdfDir + pdf \n",
        "            text = convert(pdfFilename) #get string of text content of pdf\n",
        "            textFilename = txtDir + pdf.split(\".\")[0] + \".txt\"\n",
        "            textFile = open(textFilename, \"w\") #make text file\n",
        "            textFile.write(text) #write text to text file\n",
        "\t\t\t#textFile.close\n",
        "\n",
        "pdfDir = \"/content/pdf/\"\n",
        "txtDir = \"/content/txt/\"\n",
        "convertMultiple(pdfDir, txtDir)"
      ],
      "execution_count": 0,
      "outputs": []
    },
    {
      "cell_type": "code",
      "metadata": {
        "id": "7oAqMk_IAxrj",
        "colab_type": "code",
        "outputId": "863798c1-7cc3-4e6a-eb75-b55d476657b6",
        "colab": {
          "base_uri": "https://localhost:8080/",
          "height": 51
        }
      },
      "source": [
        "!pip install cStringIO"
      ],
      "execution_count": 0,
      "outputs": [
        {
          "output_type": "stream",
          "text": [
            "\u001b[31mERROR: Could not find a version that satisfies the requirement cStringIO (from versions: none)\u001b[0m\n",
            "\u001b[31mERROR: No matching distribution found for cStringIO\u001b[0m\n"
          ],
          "name": "stdout"
        }
      ]
    },
    {
      "cell_type": "code",
      "metadata": {
        "id": "Z_XGpR6WA0rc",
        "colab_type": "code",
        "outputId": "f8ce5a02-d55e-4aa1-9a65-c498c4878bd9",
        "colab": {
          "base_uri": "https://localhost:8080/",
          "height": 51
        }
      },
      "source": [
        "!pip install IO"
      ],
      "execution_count": 0,
      "outputs": [
        {
          "output_type": "stream",
          "text": [
            "\u001b[31mERROR: Could not find a version that satisfies the requirement IO (from versions: none)\u001b[0m\n",
            "\u001b[31mERROR: No matching distribution found for IO\u001b[0m\n"
          ],
          "name": "stdout"
        }
      ]
    },
    {
      "cell_type": "code",
      "metadata": {
        "id": "r3JxbwyJBqkj",
        "colab_type": "code",
        "outputId": "00968169-87a4-4f90-8c67-77f22076e93a",
        "colab": {
          "base_uri": "https://localhost:8080/",
          "height": 136
        }
      },
      "source": [
        "import os\n",
        "import shutil\n",
        "from os import path\n",
        "paths =\"/content/txt/\"\n",
        "dest = \"/content/drive/My Drive/CAR/\"\n",
        "def main():\n",
        "  for i in (os.listdir(paths)):\n",
        "    print(i)\n",
        "    src = paths + i\n",
        "    des = dest + i\n",
        "    shutil.copy(src , des)\n",
        "  print(len(os.listdir(paths)),\" Complited\")\n",
        "\n",
        "\n",
        "if __name__ == \"__main__\":\n",
        "  main()"
      ],
      "execution_count": 0,
      "outputs": [
        {
          "output_type": "stream",
          "text": [
            "JYOTHIZ.txt\n",
            "rafeeq.txt\n",
            "RAJESWARI ARAVIND_.txt\n",
            "1009043118P105360027.txt\n",
            "rafeeq.pdf.txt\n",
            "2828200663848506000.txt\n",
            "6  Complited\n"
          ],
          "name": "stdout"
        }
      ]
    },
    {
      "cell_type": "code",
      "metadata": {
        "id": "n-JfUCnXG4Q8",
        "colab_type": "code",
        "colab": {}
      },
      "source": [
        ""
      ],
      "execution_count": 0,
      "outputs": []
    },
    {
      "cell_type": "code",
      "metadata": {
        "id": "i9w_doJoyM7W",
        "colab_type": "code",
        "outputId": "dcf697b9-fab4-4901-ec00-0a362181a5b3",
        "colab": {
          "base_uri": "https://localhost:8080/",
          "height": 435
        }
      },
      "source": [
        "\"\"\"\n",
        "    PDF to HTML converter.\n",
        "\"\"\"\n",
        "\n",
        "import os\n",
        "import sys\n",
        "\n",
        "import pyPdf\n",
        "from pyPdf.pdf import ContentStream\n",
        "from pyPdf.pdf import TextStringObject\n",
        "\n",
        "\n",
        "SLIDE_TEMPLATE = u'<p class=\"slide\"><img src=\"{prefix}{src}\" alt=\"{alt}\" /></p>'\n",
        "\n",
        "# You can pass Ghostscript binary to the script as an environment variable.\n",
        "GHOSTSCRIPT = os.environ.get(\"GHOSTSCRIPT\", \"gs\")\n",
        "\n",
        "\n",
        "def create_images(src, target, width=620, height=480):\n",
        "    \"\"\" Create series of images from slides.\n",
        "    http://right-sock.net/linux/better-convert-pdf-to-jpg-using-ghost-script/\n",
        "    :param src: Source PDF file\n",
        "    :param target: Target folder\n",
        "    \"\"\"\n",
        "\n",
        "    if target.endswith(\"/\"):\n",
        "        target = target[0:-1]\n",
        "\n",
        "    # Generated filenames\n",
        "    ftemplate = \"%(target)s/slide%%d.jpg\" % locals()\n",
        "\n",
        "    # gs binary\n",
        "    ghostscript = GHOSTSCRIPT\n",
        "\n",
        "    # Export magic of doing\n",
        "    # Note: Ghostscript 9.06 crashed for me\n",
        "    # had to upgrade 9.07\n",
        "    # This command does magic of anti-aliasing text and settings output JPEG dimensions correctly\n",
        "    cmd = \"%(ghostscript)s -dNOPAUSE -dPDFFitPage -dTextAlphaBits=4 -sDEVICE=jpeg -sOutputFile=%(ftemplate)s -dJPEGQ=80 -dDEVICEWIDTH=%(width)d -dDEVICEHEIGHT=%(height)d  %(src)s -c quit\"\n",
        "    cmd = cmd % locals()  # Apply templating\n",
        "\n",
        "    if os.system(cmd):\n",
        "        raise RuntimeError(\"Command failed: %s\" % cmd)\n",
        "\n",
        "\n",
        "def extract_text(self):\n",
        "    \"\"\" Patched extractText() from pyPdf to put spaces between different text snippets.\n",
        "    \"\"\"\n",
        "    text = u\"\"\n",
        "    content = self[\"/Contents\"].getObject()\n",
        "    if not isinstance(content, ContentStream):\n",
        "        content = ContentStream(content, self.pdf)\n",
        "    # Note: we check all strings are TextStringObjects.  ByteStringObjects\n",
        "    # are strings where the byte->string encoding was unknown, so adding\n",
        "    # them to the text here would be gibberish.\n",
        "    for operands, operator in content.operations:\n",
        "        if operator == \"Tj\":\n",
        "            _text = operands[0]\n",
        "            if isinstance(_text, TextStringObject):\n",
        "                text += _text\n",
        "        elif operator == \"T*\":\n",
        "            text += \"\\n\"\n",
        "        elif operator == \"'\":\n",
        "            text += \"\\n\"\n",
        "            _text = operands[0]\n",
        "            if isinstance(_text, TextStringObject):\n",
        "                text += operands[0]\n",
        "        elif operator == '\"':\n",
        "            _text = operands[2]\n",
        "            if isinstance(_text, TextStringObject):\n",
        "                text += \"\\n\"\n",
        "                text += _text\n",
        "        elif operator == \"TJ\":\n",
        "            for i in operands[0]:\n",
        "                if isinstance(i, TextStringObject):\n",
        "                    text += i\n",
        "\n",
        "        if text and not text.endswith(\" \"):\n",
        "            text += \" \"  # Don't let words concatenate\n",
        "\n",
        "    return text\n",
        "\n",
        "\n",
        "def scrape_text(src):\n",
        "    \"\"\" Read a PDF file and return plain text of each page.\n",
        "    http://stackoverflow.com/questions/25665/python-module-for-converting-pdf-to-text\n",
        "    :return: List of plain text unicode strings\n",
        "    \"\"\"\n",
        "\n",
        "    pages = []\n",
        "\n",
        "    pdf = pyPdf.PdfFileReader(open(src, \"rb\"))\n",
        "    for page in pdf.pages:\n",
        "        text = extract_text(page)\n",
        "        pages.append(text)\n",
        "\n",
        "    return pages\n",
        "\n",
        "\n",
        "def create_index_html(target, slides, prefix):\n",
        "    \"\"\" Generate HTML code for `<img>` tags.\n",
        "    \"\"\"\n",
        "\n",
        "    out = open(target, \"wt\")\n",
        "\n",
        "    print >> out, \"<!doctype html>\"\n",
        "    for i in xrange(0, len(slides)):\n",
        "        alt = slides[i]  # ALT text for this slide\n",
        "        params = dict(src=u\"slide%d.jpg\" % (i+1), prefix=prefix, alt=alt)\n",
        "        line = SLIDE_TEMPLATE.format(**params)\n",
        "        print >> out, line.encode(\"utf-8\")\n",
        "\n",
        "    out.close()\n",
        "\n",
        "\n",
        "def main():\n",
        "    \"\"\" Entry point. \"\"\"\n",
        "\n",
        "    if len(sys.argv) < 3:\n",
        "        sys.exit(\"Usage: pdf2html.py mypresentation.pdf targetfolder [image path prefix]\")\n",
        "\n",
        "    src = sys.argv[1]\n",
        "    folder = sys.argv[2]\n",
        "\n",
        "    if len(sys.argv) > 3:\n",
        "        prefix = sys.argv[3]\n",
        "    else:\n",
        "        prefix = \"\"\n",
        "\n",
        "    if not os.path.exists(folder):\n",
        "        os.makedirs(folder)\n",
        "\n",
        "    alt_texts = scrape_text(src)\n",
        "\n",
        "    target_html = os.path.join(folder, \"index.html\")\n",
        "\n",
        "    create_index_html(target_html, alt_texts, prefix)\n",
        "\n",
        "    create_images(src, folder)\n",
        "\n",
        "\n",
        "if __name__ == \"__main__\":\n",
        "    main()"
      ],
      "execution_count": 0,
      "outputs": [
        {
          "output_type": "error",
          "ename": "ImportError",
          "evalue": "ignored",
          "traceback": [
            "\u001b[0;31m---------------------------------------------------------------------------\u001b[0m",
            "\u001b[0;31mImportError\u001b[0m                               Traceback (most recent call last)",
            "\u001b[0;32m<ipython-input-42-cc5182cc5d32>\u001b[0m in \u001b[0;36m<module>\u001b[0;34m()\u001b[0m\n\u001b[1;32m      6\u001b[0m \u001b[0;32mimport\u001b[0m \u001b[0msys\u001b[0m\u001b[0;34m\u001b[0m\u001b[0;34m\u001b[0m\u001b[0m\n\u001b[1;32m      7\u001b[0m \u001b[0;34m\u001b[0m\u001b[0m\n\u001b[0;32m----> 8\u001b[0;31m \u001b[0;32mimport\u001b[0m \u001b[0mpyPdf\u001b[0m\u001b[0;34m\u001b[0m\u001b[0;34m\u001b[0m\u001b[0m\n\u001b[0m\u001b[1;32m      9\u001b[0m \u001b[0;32mfrom\u001b[0m \u001b[0mpyPdf\u001b[0m\u001b[0;34m.\u001b[0m\u001b[0mpdf\u001b[0m \u001b[0;32mimport\u001b[0m \u001b[0mContentStream\u001b[0m\u001b[0;34m\u001b[0m\u001b[0;34m\u001b[0m\u001b[0m\n\u001b[1;32m     10\u001b[0m \u001b[0;32mfrom\u001b[0m \u001b[0mpyPdf\u001b[0m\u001b[0;34m.\u001b[0m\u001b[0mpdf\u001b[0m \u001b[0;32mimport\u001b[0m \u001b[0mTextStringObject\u001b[0m\u001b[0;34m\u001b[0m\u001b[0;34m\u001b[0m\u001b[0m\n",
            "\u001b[0;32m/usr/local/lib/python3.6/dist-packages/pyPdf/__init__.py\u001b[0m in \u001b[0;36m<module>\u001b[0;34m()\u001b[0m\n\u001b[0;32m----> 1\u001b[0;31m \u001b[0;32mfrom\u001b[0m \u001b[0mpdf\u001b[0m \u001b[0;32mimport\u001b[0m \u001b[0mPdfFileReader\u001b[0m\u001b[0;34m,\u001b[0m \u001b[0mPdfFileWriter\u001b[0m\u001b[0;34m\u001b[0m\u001b[0;34m\u001b[0m\u001b[0m\n\u001b[0m\u001b[1;32m      2\u001b[0m \u001b[0m__all__\u001b[0m \u001b[0;34m=\u001b[0m \u001b[0;34m[\u001b[0m\u001b[0;34m\"pdf\"\u001b[0m\u001b[0;34m]\u001b[0m\u001b[0;34m\u001b[0m\u001b[0;34m\u001b[0m\u001b[0m\n",
            "\u001b[0;31mImportError\u001b[0m: cannot import name 'PdfFileReader'",
            "",
            "\u001b[0;31m---------------------------------------------------------------------------\u001b[0;32m\nNOTE: If your import is failing due to a missing package, you can\nmanually install dependencies using either !pip or !apt.\n\nTo view examples of installing some common dependencies, click the\n\"Open Examples\" button below.\n\u001b[0;31m---------------------------------------------------------------------------\u001b[0m\n"
          ]
        }
      ]
    },
    {
      "cell_type": "code",
      "metadata": {
        "id": "aUvIPFw6y-gS",
        "colab_type": "code",
        "outputId": "4dd1feb9-3d73-4ef8-8d9f-380326a3fd1d",
        "colab": {
          "base_uri": "https://localhost:8080/",
          "height": 51
        }
      },
      "source": [
        "!pip3 install PdfFileReader"
      ],
      "execution_count": 0,
      "outputs": [
        {
          "output_type": "stream",
          "text": [
            "\u001b[31mERROR: Could not find a version that satisfies the requirement PdfFileReader (from versions: none)\u001b[0m\n",
            "\u001b[31mERROR: No matching distribution found for PdfFileReader\u001b[0m\n"
          ],
          "name": "stdout"
        }
      ]
    },
    {
      "cell_type": "code",
      "metadata": {
        "id": "4mZwPugvzBH1",
        "colab_type": "code",
        "outputId": "f0e0b924-19a4-454a-c414-c1f7e177ba6e",
        "colab": {
          "base_uri": "https://localhost:8080/",
          "height": 207
        }
      },
      "source": [
        "!pip install PyPDF2"
      ],
      "execution_count": 0,
      "outputs": [
        {
          "output_type": "stream",
          "text": [
            "Collecting PyPDF2\n",
            "\u001b[?25l  Downloading https://files.pythonhosted.org/packages/b4/01/68fcc0d43daf4c6bdbc6b33cc3f77bda531c86b174cac56ef0ffdb96faab/PyPDF2-1.26.0.tar.gz (77kB)\n",
            "\r\u001b[K     |████▎                           | 10kB 16.9MB/s eta 0:00:01\r\u001b[K     |████████▌                       | 20kB 1.6MB/s eta 0:00:01\r\u001b[K     |████████████▊                   | 30kB 2.1MB/s eta 0:00:01\r\u001b[K     |█████████████████               | 40kB 2.4MB/s eta 0:00:01\r\u001b[K     |█████████████████████▏          | 51kB 2.1MB/s eta 0:00:01\r\u001b[K     |█████████████████████████▍      | 61kB 2.3MB/s eta 0:00:01\r\u001b[K     |█████████████████████████████▋  | 71kB 2.5MB/s eta 0:00:01\r\u001b[K     |████████████████████████████████| 81kB 2.3MB/s \n",
            "\u001b[?25hBuilding wheels for collected packages: PyPDF2\n",
            "  Building wheel for PyPDF2 (setup.py) ... \u001b[?25l\u001b[?25hdone\n",
            "  Created wheel for PyPDF2: filename=PyPDF2-1.26.0-cp36-none-any.whl size=61086 sha256=0f5d543d74454093a20338d81613d38c53594feac8b5fbd6f99ee8a3190a7c87\n",
            "  Stored in directory: /root/.cache/pip/wheels/53/84/19/35bc977c8bf5f0c23a8a011aa958acd4da4bbd7a229315c1b7\n",
            "Successfully built PyPDF2\n",
            "Installing collected packages: PyPDF2\n",
            "Successfully installed PyPDF2-1.26.0\n"
          ],
          "name": "stdout"
        }
      ]
    },
    {
      "cell_type": "code",
      "metadata": {
        "id": "5RyGrAW6zfa3",
        "colab_type": "code",
        "outputId": "64db0f70-07fb-463e-8965-d740a302a318",
        "colab": {
          "base_uri": "https://localhost:8080/",
          "height": 187
        }
      },
      "source": [
        "import os\n",
        "import subprocess\n",
        "\n",
        "for top, dirs, files in os.walk('/content/pdf'):\n",
        "    for filename in files:\n",
        "        print(filename)\n",
        "        if filename.endswith('.pdf'):\n",
        "            abspath = os.path.join(top, filename)\n",
        "            prcess = subprocess.call('lowriter --invisible --convert-to doc \"{}\"'\n",
        "                            .format(abspath), shell=True)\n",
        "            print(prcess)"
      ],
      "execution_count": 0,
      "outputs": [
        {
          "output_type": "stream",
          "text": [
            "RAJESWARI ARAVIND_.pdf\n",
            "127\n",
            "JYOTHIZ.pdf\n",
            "127\n",
            "1009043118P105360027.pdf\n",
            "127\n",
            "rafeeq.pdf\n",
            "127\n",
            "2828200663848506000.pdf\n",
            "127\n"
          ],
          "name": "stdout"
        }
      ]
    },
    {
      "cell_type": "code",
      "metadata": {
        "id": "Wr0akW7G4JDV",
        "colab_type": "code",
        "colab": {
          "base_uri": "https://localhost:8080/",
          "height": 275
        },
        "outputId": "45cbaef6-0cd0-4de2-aa4b-ac274f2c7945"
      },
      "source": [
        "!pip install git+https://github.com/pdftables/python-pdftables-api.git"
      ],
      "execution_count": 6,
      "outputs": [
        {
          "output_type": "stream",
          "text": [
            "Collecting git+https://github.com/pdftables/python-pdftables-api.git\n",
            "  Cloning https://github.com/pdftables/python-pdftables-api.git to /tmp/pip-req-build-51a4drhb\n",
            "  Running command git clone -q https://github.com/pdftables/python-pdftables-api.git /tmp/pip-req-build-51a4drhb\n",
            "Requirement already satisfied (use --upgrade to upgrade): pdftables-api==1.1.0 from git+https://github.com/pdftables/python-pdftables-api.git in /usr/local/lib/python3.6/dist-packages\n",
            "Requirement already satisfied: requests in /usr/local/lib/python3.6/dist-packages (from pdftables-api==1.1.0) (2.23.0)\n",
            "Requirement already satisfied: certifi>=2017.4.17 in /usr/local/lib/python3.6/dist-packages (from requests->pdftables-api==1.1.0) (2020.4.5.1)\n",
            "Requirement already satisfied: chardet<4,>=3.0.2 in /usr/local/lib/python3.6/dist-packages (from requests->pdftables-api==1.1.0) (3.0.4)\n",
            "Requirement already satisfied: idna<3,>=2.5 in /usr/local/lib/python3.6/dist-packages (from requests->pdftables-api==1.1.0) (2.9)\n",
            "Requirement already satisfied: urllib3!=1.25.0,!=1.25.1,<1.26,>=1.21.1 in /usr/local/lib/python3.6/dist-packages (from requests->pdftables-api==1.1.0) (1.24.3)\n",
            "Building wheels for collected packages: pdftables-api\n",
            "  Building wheel for pdftables-api (setup.py) ... \u001b[?25l\u001b[?25hdone\n",
            "  Created wheel for pdftables-api: filename=pdftables_api-1.1.0-cp36-none-any.whl size=5887 sha256=72f3bc240bfeecd903b87ea568a209985835b169edc2cbafda9bec76b0190ad8\n",
            "  Stored in directory: /tmp/pip-ephem-wheel-cache-xlacl0cq/wheels/49/66/c0/e4f778e772a77892a98b3aaaba300cbb27a29a07e0c225cd80\n",
            "Successfully built pdftables-api\n"
          ],
          "name": "stdout"
        }
      ]
    },
    {
      "cell_type": "code",
      "metadata": {
        "id": "pB8DZ_-N7Bhg",
        "colab_type": "code",
        "colab": {
          "base_uri": "https://localhost:8080/",
          "height": 343
        },
        "outputId": "d2d4fc30-3dfe-4eb1-efeb-05dd86e65d9c"
      },
      "source": [
        "!pip install --upgrade git+https://github.com/pdftables/python-pdftables-api.git"
      ],
      "execution_count": 2,
      "outputs": [
        {
          "output_type": "stream",
          "text": [
            "Collecting git+https://github.com/pdftables/python-pdftables-api.git\n",
            "  Cloning https://github.com/pdftables/python-pdftables-api.git to /tmp/pip-req-build-3lfci3sw\n",
            "  Running command git clone -q https://github.com/pdftables/python-pdftables-api.git /tmp/pip-req-build-3lfci3sw\n",
            "Requirement already satisfied, skipping upgrade: requests in /usr/local/lib/python3.6/dist-packages (from pdftables-api==1.1.0) (2.23.0)\n",
            "Requirement already satisfied, skipping upgrade: chardet<4,>=3.0.2 in /usr/local/lib/python3.6/dist-packages (from requests->pdftables-api==1.1.0) (3.0.4)\n",
            "Requirement already satisfied, skipping upgrade: urllib3!=1.25.0,!=1.25.1,<1.26,>=1.21.1 in /usr/local/lib/python3.6/dist-packages (from requests->pdftables-api==1.1.0) (1.24.3)\n",
            "Requirement already satisfied, skipping upgrade: certifi>=2017.4.17 in /usr/local/lib/python3.6/dist-packages (from requests->pdftables-api==1.1.0) (2020.4.5.1)\n",
            "Requirement already satisfied, skipping upgrade: idna<3,>=2.5 in /usr/local/lib/python3.6/dist-packages (from requests->pdftables-api==1.1.0) (2.9)\n",
            "Building wheels for collected packages: pdftables-api\n",
            "  Building wheel for pdftables-api (setup.py) ... \u001b[?25l\u001b[?25hdone\n",
            "  Created wheel for pdftables-api: filename=pdftables_api-1.1.0-cp36-none-any.whl size=5887 sha256=622955138fe06cfab8ea1d312d19abf8ebf8e675512be5c052241e3f74367130\n",
            "  Stored in directory: /tmp/pip-ephem-wheel-cache-9ev1__pv/wheels/49/66/c0/e4f778e772a77892a98b3aaaba300cbb27a29a07e0c225cd80\n",
            "Successfully built pdftables-api\n",
            "Installing collected packages: pdftables-api\n",
            "  Found existing installation: pdftables-api 1.1.0\n",
            "    Uninstalling pdftables-api-1.1.0:\n",
            "      Successfully uninstalled pdftables-api-1.1.0\n",
            "Successfully installed pdftables-api-1.1.0\n"
          ],
          "name": "stdout"
        }
      ]
    },
    {
      "cell_type": "code",
      "metadata": {
        "id": "qH_1t1pp7IFI",
        "colab_type": "code",
        "colab": {}
      },
      "source": [
        "import pdftables_api\n",
        "c = pdftables_api.Client(api_key='0.0.0.0', timeout=(60, 3600))"
      ],
      "execution_count": 0,
      "outputs": []
    },
    {
      "cell_type": "code",
      "metadata": {
        "id": "OabieOns7vem",
        "colab_type": "code",
        "colab": {
          "base_uri": "https://localhost:8080/",
          "height": 683
        },
        "outputId": "83ffa3b8-5f18-484a-8c6e-e8eec200cf8c"
      },
      "source": [
        "c.xlsx('/content/drive/My Drive/PDF/Johnson.pdf', 'output.xlsx')"
      ],
      "execution_count": 15,
      "outputs": [
        {
          "output_type": "error",
          "ename": "APIException",
          "evalue": "ignored",
          "traceback": [
            "\u001b[0;31m---------------------------------------------------------------------------\u001b[0m",
            "\u001b[0;31mAPIException\u001b[0m                              Traceback (most recent call last)",
            "\u001b[0;32m<ipython-input-15-925601bd1d15>\u001b[0m in \u001b[0;36m<module>\u001b[0;34m()\u001b[0m\n\u001b[0;32m----> 1\u001b[0;31m \u001b[0mc\u001b[0m\u001b[0;34m.\u001b[0m\u001b[0mxlsx\u001b[0m\u001b[0;34m(\u001b[0m\u001b[0;34m'/content/drive/My Drive/PDF/Johnson.pdf'\u001b[0m\u001b[0;34m,\u001b[0m \u001b[0;34m'output.xlsx'\u001b[0m\u001b[0;34m)\u001b[0m\u001b[0;34m\u001b[0m\u001b[0;34m\u001b[0m\u001b[0m\n\u001b[0m",
            "\u001b[0;32m/usr/local/lib/python3.6/dist-packages/pdftables_api/pdftables_api.py\u001b[0m in \u001b[0;36mxlsx\u001b[0;34m(self, pdf_path, xlsx_path)\u001b[0m\n\u001b[1;32m     57\u001b[0m         \u001b[0mIf\u001b[0m \u001b[0mxlsx_path\u001b[0m \u001b[0;32mis\u001b[0m \u001b[0;32mNone\u001b[0m\u001b[0;34m,\u001b[0m \u001b[0mreturns\u001b[0m \u001b[0mthe\u001b[0m \u001b[0moutput\u001b[0m \u001b[0;32mas\u001b[0m \u001b[0ma\u001b[0m \u001b[0mbyte\u001b[0m \u001b[0mstring\u001b[0m\u001b[0;34m.\u001b[0m\u001b[0;34m\u001b[0m\u001b[0;34m\u001b[0m\u001b[0m\n\u001b[1;32m     58\u001b[0m         \"\"\"\n\u001b[0;32m---> 59\u001b[0;31m         \u001b[0;32mreturn\u001b[0m \u001b[0mself\u001b[0m\u001b[0;34m.\u001b[0m\u001b[0mxlsx_multiple\u001b[0m\u001b[0;34m(\u001b[0m\u001b[0mpdf_path\u001b[0m\u001b[0;34m,\u001b[0m \u001b[0mxlsx_path\u001b[0m\u001b[0;34m)\u001b[0m\u001b[0;34m\u001b[0m\u001b[0;34m\u001b[0m\u001b[0m\n\u001b[0m\u001b[1;32m     60\u001b[0m \u001b[0;34m\u001b[0m\u001b[0m\n\u001b[1;32m     61\u001b[0m     \u001b[0;32mdef\u001b[0m \u001b[0mxlsx_single\u001b[0m\u001b[0;34m(\u001b[0m\u001b[0mself\u001b[0m\u001b[0;34m,\u001b[0m \u001b[0mpdf_path\u001b[0m\u001b[0;34m,\u001b[0m \u001b[0mxlsx_path\u001b[0m\u001b[0;34m=\u001b[0m\u001b[0;32mNone\u001b[0m\u001b[0;34m)\u001b[0m\u001b[0;34m:\u001b[0m\u001b[0;34m\u001b[0m\u001b[0;34m\u001b[0m\u001b[0m\n",
            "\u001b[0;32m/usr/local/lib/python3.6/dist-packages/pdftables_api/pdftables_api.py\u001b[0m in \u001b[0;36mxlsx_multiple\u001b[0;34m(self, pdf_path, xlsx_path)\u001b[0m\n\u001b[1;32m     73\u001b[0m         \u001b[0mIf\u001b[0m \u001b[0mxlsx_path\u001b[0m \u001b[0;32mis\u001b[0m \u001b[0;32mNone\u001b[0m\u001b[0;34m,\u001b[0m \u001b[0mreturns\u001b[0m \u001b[0mthe\u001b[0m \u001b[0moutput\u001b[0m \u001b[0;32mas\u001b[0m \u001b[0ma\u001b[0m \u001b[0mbyte\u001b[0m \u001b[0mstring\u001b[0m\u001b[0;34m.\u001b[0m\u001b[0;34m\u001b[0m\u001b[0;34m\u001b[0m\u001b[0m\n\u001b[1;32m     74\u001b[0m         \"\"\"\n\u001b[0;32m---> 75\u001b[0;31m         \u001b[0;32mreturn\u001b[0m \u001b[0mself\u001b[0m\u001b[0;34m.\u001b[0m\u001b[0mconvert\u001b[0m\u001b[0;34m(\u001b[0m\u001b[0mpdf_path\u001b[0m\u001b[0;34m,\u001b[0m \u001b[0mxlsx_path\u001b[0m\u001b[0;34m,\u001b[0m \u001b[0mout_format\u001b[0m\u001b[0;34m=\u001b[0m\u001b[0mFORMAT_XLSX_MULTIPLE\u001b[0m\u001b[0;34m)\u001b[0m\u001b[0;34m\u001b[0m\u001b[0;34m\u001b[0m\u001b[0m\n\u001b[0m\u001b[1;32m     76\u001b[0m \u001b[0;34m\u001b[0m\u001b[0m\n\u001b[1;32m     77\u001b[0m     \u001b[0;32mdef\u001b[0m \u001b[0mxml\u001b[0m\u001b[0;34m(\u001b[0m\u001b[0mself\u001b[0m\u001b[0;34m,\u001b[0m \u001b[0mpdf_path\u001b[0m\u001b[0;34m,\u001b[0m \u001b[0mxml_path\u001b[0m\u001b[0;34m=\u001b[0m\u001b[0;32mNone\u001b[0m\u001b[0;34m)\u001b[0m\u001b[0;34m:\u001b[0m\u001b[0;34m\u001b[0m\u001b[0;34m\u001b[0m\u001b[0m\n",
            "\u001b[0;32m/usr/local/lib/python3.6/dist-packages/pdftables_api/pdftables_api.py\u001b[0m in \u001b[0;36mconvert\u001b[0;34m(self, pdf_path, out_path, out_format, query_params, **requests_params)\u001b[0m\n\u001b[1;32m    109\u001b[0m         \u001b[0;32mwith\u001b[0m \u001b[0mopen\u001b[0m\u001b[0;34m(\u001b[0m\u001b[0mpdf_path\u001b[0m\u001b[0;34m,\u001b[0m \u001b[0;34m'rb'\u001b[0m\u001b[0;34m)\u001b[0m \u001b[0;32mas\u001b[0m \u001b[0mpdf_fo\u001b[0m\u001b[0;34m:\u001b[0m\u001b[0;34m\u001b[0m\u001b[0;34m\u001b[0m\u001b[0m\n\u001b[1;32m    110\u001b[0m             response = self.request(pdf_fo, out_format, query_params,\n\u001b[0;32m--> 111\u001b[0;31m                                     **requests_params)\n\u001b[0m\u001b[1;32m    112\u001b[0m \u001b[0;34m\u001b[0m\u001b[0m\n\u001b[1;32m    113\u001b[0m             \u001b[0;32mif\u001b[0m \u001b[0mout_path\u001b[0m \u001b[0;32mis\u001b[0m \u001b[0;32mNone\u001b[0m\u001b[0;34m:\u001b[0m\u001b[0;34m\u001b[0m\u001b[0;34m\u001b[0m\u001b[0m\n",
            "\u001b[0;32m/usr/local/lib/python3.6/dist-packages/pdftables_api/pdftables_api.py\u001b[0m in \u001b[0;36mrequest\u001b[0;34m(self, pdf_fo, out_format, query_params, **requests_params)\u001b[0m\n\u001b[1;32m    157\u001b[0m             \u001b[0;32mraise\u001b[0m \u001b[0mAPIException\u001b[0m\u001b[0;34m(\u001b[0m\u001b[0;34m\"Unknown file format\"\u001b[0m\u001b[0;34m)\u001b[0m\u001b[0;34m\u001b[0m\u001b[0;34m\u001b[0m\u001b[0m\n\u001b[1;32m    158\u001b[0m         \u001b[0;32melif\u001b[0m \u001b[0mresponse\u001b[0m\u001b[0;34m.\u001b[0m\u001b[0mstatus_code\u001b[0m \u001b[0;34m==\u001b[0m \u001b[0;36m401\u001b[0m\u001b[0;34m:\u001b[0m\u001b[0;34m\u001b[0m\u001b[0;34m\u001b[0m\u001b[0m\n\u001b[0;32m--> 159\u001b[0;31m             \u001b[0;32mraise\u001b[0m \u001b[0mAPIException\u001b[0m\u001b[0;34m(\u001b[0m\u001b[0;34m\"Unauthorized API key\"\u001b[0m\u001b[0;34m)\u001b[0m\u001b[0;34m\u001b[0m\u001b[0;34m\u001b[0m\u001b[0m\n\u001b[0m\u001b[1;32m    160\u001b[0m         \u001b[0;32melif\u001b[0m \u001b[0mresponse\u001b[0m\u001b[0;34m.\u001b[0m\u001b[0mstatus_code\u001b[0m \u001b[0;34m==\u001b[0m \u001b[0;36m402\u001b[0m\u001b[0;34m:\u001b[0m\u001b[0;34m\u001b[0m\u001b[0;34m\u001b[0m\u001b[0m\n\u001b[1;32m    161\u001b[0m             \u001b[0;32mraise\u001b[0m \u001b[0mAPIException\u001b[0m\u001b[0;34m(\u001b[0m\u001b[0;34m\"Usage limit exceeded\"\u001b[0m\u001b[0;34m)\u001b[0m\u001b[0;34m\u001b[0m\u001b[0;34m\u001b[0m\u001b[0m\n",
            "\u001b[0;31mAPIException\u001b[0m: Unauthorized API key"
          ]
        }
      ]
    },
    {
      "cell_type": "code",
      "metadata": {
        "id": "csnjdXAXvGsj",
        "colab_type": "code",
        "colab": {}
      },
      "source": [
        "def getContent(link, filename, whichtable=0):\n",
        "    result1 = requests.get(link)\n",
        "    src1 = result1.content\n",
        "    soup = BeautifulSoup(src1,'lxml')\n",
        "    table = soup.find_all('table')[whichtable]\n",
        "    with open(filename,'w',newline='') as f:\n",
        "        writer = csv.writer(f)\n",
        "        for tr in table('tr'):\n",
        "            row = [t.get_text(strip=True)for t in tr(['td','th'])]\n",
        "            writer.writerow(row)\n",
        "\n",
        "\n",
        "getContent('https://teams.technion.ac.il/residency-placements/', 'what.csv', whichtable=0)\n",
        "df2= pd.read_csv('what.csv')"
      ],
      "execution_count": 0,
      "outputs": []
    },
    {
      "cell_type": "code",
      "metadata": {
        "id": "vvi3LFnfvf61",
        "colab_type": "code",
        "colab": {}
      },
      "source": [
        "from bs4 import BeautifulSoup \n",
        "import requests \n",
        "import pandas as pd  "
      ],
      "execution_count": 0,
      "outputs": []
    },
    {
      "cell_type": "code",
      "metadata": {
        "id": "VzcLo7-JvkkA",
        "colab_type": "code",
        "colab": {}
      },
      "source": [
        "import csv"
      ],
      "execution_count": 0,
      "outputs": []
    },
    {
      "cell_type": "code",
      "metadata": {
        "id": "Pn1DOmbovyhA",
        "colab_type": "code",
        "colab": {}
      },
      "source": [
        ""
      ],
      "execution_count": 0,
      "outputs": []
    }
  ]
}